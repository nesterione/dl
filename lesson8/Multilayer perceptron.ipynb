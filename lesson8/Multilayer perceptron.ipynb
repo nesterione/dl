{
 "cells": [
  {
   "cell_type": "code",
   "execution_count": 1,
   "metadata": {
    "collapsed": true
   },
   "outputs": [],
   "source": [
    "import numpy as np\n",
    "import matplotlib.pyplot as plt"
   ]
  },
  {
   "cell_type": "markdown",
   "metadata": {},
   "source": [
    "## Read Data"
   ]
  },
  {
   "cell_type": "code",
   "execution_count": 4,
   "metadata": {},
   "outputs": [],
   "source": [
    "train_data = np.loadtxt('train.csv', delimiter=',', skiprows=1)"
   ]
  },
  {
   "cell_type": "markdown",
   "metadata": {},
   "source": [
    "## Split on training pairs"
   ]
  },
  {
   "cell_type": "code",
   "execution_count": 19,
   "metadata": {},
   "outputs": [
    {
     "name": "stdout",
     "output_type": "stream",
     "text": [
      "Features shape: (42000, 784)\n",
      "Labels shape: (42000,)\n"
     ]
    }
   ],
   "source": [
    "labels = train_data[:,0].astype(np.int32)  # labels\n",
    "X_train = train_data[:,1:]                 # features\n",
    "print('Features shape:', X_train.shape)\n",
    "print('Labels shape:', labels.shape)"
   ]
  },
  {
   "cell_type": "markdown",
   "metadata": {},
   "source": [
    "## Normalization"
   ]
  },
  {
   "cell_type": "code",
   "execution_count": 20,
   "metadata": {},
   "outputs": [
    {
     "name": "stdout",
     "output_type": "stream",
     "text": [
      "Max intensity value of pixel before normalization: 255.0\n",
      "Max intensity value of pixel after normalization: 1.0\n"
     ]
    }
   ],
   "source": [
    "max_intensity = X_train.max()\n",
    "print('Max intensity value of pixel before normalization:', max_intensity)\n",
    "X_train = X_train / max_intensity # 255 - is a max intensity value of pixel\n",
    "print('Max intensity value of pixel after normalization:', X_train.max())"
   ]
  },
  {
   "cell_type": "markdown",
   "metadata": {},
   "source": [
    "### To categorical / labels one-hot encoding"
   ]
  },
  {
   "cell_type": "code",
   "execution_count": 21,
   "metadata": {},
   "outputs": [
    {
     "name": "stdout",
     "output_type": "stream",
     "text": [
      "Unique labels: [0 1 2 3 4 5 6 7 8 9]\n",
      "Number of classes: 10\n"
     ]
    }
   ],
   "source": [
    "unique_labels = np.unique(labels)\n",
    "print('Unique labels:', unique_labels)\n",
    "N_CLASSES = unique_labels.size\n",
    "print('Number of classes:', N_CLASSES) # 10 classes for 10 digits"
   ]
  },
  {
   "cell_type": "code",
   "execution_count": 27,
   "metadata": {},
   "outputs": [
    {
     "name": "stdout",
     "output_type": "stream",
     "text": [
      "Labels before encoding:\n",
      "[1 4 0]\n",
      "\n",
      "Encoded labels:\n",
      "[[0 1 0 0 0 0 0 0 0 0]\n",
      " [0 0 0 0 1 0 0 0 0 0]\n",
      " [1 0 0 0 0 0 0 0 0 0]]\n"
     ]
    }
   ],
   "source": [
    "print('Labels before encoding:\\n{}\\n'.format(labels[2:5]))\n",
    "y_train = np.eye(N_CLASSES, dtype='int32')[labels]\n",
    "print('Encoded labels:\\n{}'.format(y_train[2:5]))"
   ]
  },
  {
   "cell_type": "markdown",
   "metadata": {},
   "source": [
    "## Perceptron"
   ]
  },
  {
   "cell_type": "code",
   "execution_count": 28,
   "metadata": {
    "collapsed": true
   },
   "outputs": [],
   "source": [
    "# sigmoid activation\n",
    "def sigmoid(x):\n",
    "    return 1/(1+np.exp(-x))\n",
    "\n",
    "# sigmoid derivative\n",
    "def sigmoid_derivative(x):\n",
    "    # g(x)*(1-g(x)) \n",
    "    return sigmoid(x)*(1-sigmoid(x))"
   ]
  },
  {
   "cell_type": "markdown",
   "metadata": {},
   "source": [
    "We should to verify our functions. To do it we can plot graphics of sigmoid and it's derivative"
   ]
  },
  {
   "cell_type": "code",
   "execution_count": 29,
   "metadata": {},
   "outputs": [
    {
     "data": {
      "image/png": "[encoded data removed]",
      "text/plain": [
       "<matplotlib.figure.Figure at 0x16cb8cf8898>"
      ]
     },
     "metadata": {},
     "output_type": "display_data"
    }
   ],
   "source": [
    "# test sigmoid and it's derivative\n",
    "test_arr = np.linspace(-10, 10) # Return evenly spaced numbers over a specified interval\n",
    "# create variable that stores figure\n",
    "plt.figure(figsize=(8, 2)) \n",
    "# first plot\n",
    "ax1 = plt.subplot(121)\n",
    "ax1.set_title('Sigmoid')\n",
    "ax1.plot(test_arr, sigmoid(test_arr))\n",
    "# second plot\n",
    "ax2 = plt.subplot(122)\n",
    "ax2.set_title('Sigmoid derivative')\n",
    "ax2.plot(test_arr, sigmoid_derivative(test_arr))\n",
    "\n",
    "plt.show()"
   ]
  },
  {
   "cell_type": "markdown",
   "metadata": {},
   "source": [
    "## Cross entropy"
   ]
  },
  {
   "cell_type": "code",
   "execution_count": 30,
   "metadata": {
    "collapsed": true
   },
   "outputs": [],
   "source": [
    "def categorical_crossentropy(y_pred, y):\n",
    "    \"\"\" y_pred - logits\n",
    "        y - labels\n",
    "    \"\"\"\n",
    "    # positive part of logical loss\n",
    "    # y > 0\n",
    "    pos = -y*np.log(y_pred)\n",
    "    # negative part of logical loss\n",
    "    # y < 0\n",
    "    neg = -(1-y)*np.log(1-y_pred)\n",
    "    # we sum binary cross entropy loss over every cell in one-hot vector\n",
    "    # E.g. for 5 classes - 5 error values, that should be summarized\n",
    "    cost = np.sum(np.nan_to_num(pos+neg), axis=1)\n",
    "    # we should return mean value over every training sample\n",
    "    return np.mean(cost)\n",
    "\n",
    "def categorical_crossentropy_derivative(y_pred, y):\n",
    "    \"\"\" y_pred - logits\n",
    "        y - labels\n",
    "    \"\"\"\n",
    "    return y_pred-y"
   ]
  },
  {
   "cell_type": "markdown",
   "metadata": {},
   "source": [
    "Now we should to verify our cost function. To do it we choose 5 label's values from our training set and create an array of length 10, where 5 values is correct and another 5 - zeros."
   ]
  },
  {
   "cell_type": "code",
   "execution_count": 31,
   "metadata": {},
   "outputs": [
    {
     "data": {
      "text/plain": [
       "9.6755577851529093"
      ]
     },
     "execution_count": 31,
     "metadata": {},
     "output_type": "execute_result"
    }
   ],
   "source": [
    "# test entropy\n",
    "# array of length ten\n",
    "test_arr_x = np.zeros(10, dtype=np.int32)\n",
    "# choose 5 correct labels\n",
    "test_arr_x[5:] = labels[5:10].copy()\n",
    "# to categorical\n",
    "test_arr_x = np.eye(N_CLASSES, dtype='int32')[test_arr_x]\n",
    "# we add some real values to avoid NaN\n",
    "test_arr_x = test_arr_x*0.99+0.00001\n",
    "# to evaluate we choose our true labels\n",
    "test_arr_z = y_train[:10].copy()\n",
    "categorical_crossentropy(test_arr_x[:5], test_arr_z[:5])"
   ]
  },
  {
   "cell_type": "markdown",
   "metadata": {},
   "source": [
    "### Weight initializer"
   ]
  },
  {
   "cell_type": "code",
   "execution_count": 32,
   "metadata": {
    "collapsed": true
   },
   "outputs": [],
   "source": [
    "def init_weights(sizes):\n",
    "    # sizes is a number of neurons per layer\n",
    "    # first layer is input and dont need any weights\n",
    "    # np.random.randn - random normal distribution\n",
    "    b = [np.random.randn(1,y) for y in sizes[1:]]\n",
    "    # weights\n",
    "    # sizes[:-1] - every except last\n",
    "    # sizes[1:] - every except first\n",
    "    # zip creates generator\n",
    "    W = [np.random.randn(y, x)/np.sqrt(x) \n",
    "            for x, y in zip(sizes[1:], sizes[:-1])]\n",
    "    \n",
    "    return (W, b)"
   ]
  },
  {
   "cell_type": "markdown",
   "metadata": {},
   "source": [
    "To verify our initializator we can print weights"
   ]
  },
  {
   "cell_type": "code",
   "execution_count": 33,
   "metadata": {},
   "outputs": [
    {
     "name": "stdout",
     "output_type": "stream",
     "text": [
      "Weight shapes: [(784, 10)]\n",
      "Bias shapes: [(1, 10)]\n",
      "Bias:\n",
      "[[ 0.40627422 -0.79427131 -2.4987268   1.1948303   1.42406284 -0.66233307\n",
      "  -1.79327779 -0.06663006 -0.66061186  0.91397532]]\n"
     ]
    }
   ],
   "source": [
    "W,b = init_weights([784,10])\n",
    "\n",
    "print('Weight shapes:', [w.shape for w in W])\n",
    "print('Bias shapes:', [b_.shape for b_ in b])\n",
    "print('Bias:')\n",
    "print(b[0])"
   ]
  },
  {
   "cell_type": "markdown",
   "metadata": {},
   "source": [
    "### Forward pass"
   ]
  },
  {
   "cell_type": "code",
   "execution_count": 34,
   "metadata": {
    "collapsed": true
   },
   "outputs": [],
   "source": [
    "def feedprop(x, W, b):\n",
    "    \"\"\"Return the output of \n",
    "    the network if ``x`` is input.\n",
    "    W - weights\n",
    "    b - biases\n",
    "    \n",
    "    Return a, z, act\n",
    "        a - array, predicted value\n",
    "        zs - list, variable that stores \n",
    "            all neuron info for every layer\n",
    "        acts - list, all activations for every layer\n",
    "              including input\n",
    "    \"\"\"\n",
    "    a = x\n",
    "    acts = [a] # list to store all the activations, layer by layer\n",
    "    zs = [] # list to store all the z vectors, layer by layer\n",
    "\n",
    "    for w,b_ in zip(W, b):\n",
    "        z = np.dot(a, w) + b_\n",
    "        zs.append(z)\n",
    "        # apply activation\n",
    "        a = sigmoid(z)\n",
    "        acts.append(a)\n",
    "    y_pred = a\n",
    "    return y_pred, zs, acts"
   ]
  },
  {
   "cell_type": "markdown",
   "metadata": {},
   "source": [
    "Test feed forward pass"
   ]
  },
  {
   "cell_type": "code",
   "execution_count": 35,
   "metadata": {},
   "outputs": [
    {
     "name": "stdout",
     "output_type": "stream",
     "text": [
      "Prediction shape: (42000, 10)\n",
      "First prediction: 0\n",
      "Cost with random weights: 12.2411884621\n"
     ]
    }
   ],
   "source": [
    "# test feed forward pass\n",
    "# create network parameters\n",
    "W,b = init_weights([784,100,10])\n",
    "# get predictions\n",
    "pred = feedprop(X_train, W, b)[0]\n",
    "print('Prediction shape:', pred.shape)\n",
    "print('First prediction:', np.argmax(pred[0]))\n",
    "print('Cost with random weights:', categorical_crossentropy(pred, y_train))"
   ]
  },
  {
   "cell_type": "markdown",
   "metadata": {},
   "source": [
    "### We need some accuracy metric"
   ]
  },
  {
   "cell_type": "code",
   "execution_count": 36,
   "metadata": {
    "collapsed": true
   },
   "outputs": [],
   "source": [
    "def accuracy(x,y,W,b):\n",
    "    '''x - network inputs\n",
    "       y - labels\n",
    "    '''\n",
    "    y_pred = feedprop(x,W,b)[0]\n",
    "    y_pred = np.argmax(y_pred, axis=1)\n",
    "    y = np.argmax(y, axis=1)\n",
    "    acc = np.equal(y_pred, y)\n",
    "    acc = np.mean(acc)\n",
    "    return acc"
   ]
  },
  {
   "cell_type": "code",
   "execution_count": 37,
   "metadata": {},
   "outputs": [
    {
     "name": "stdout",
     "output_type": "stream",
     "text": [
      "Prediction shape: (42000, 10)\n",
      "First prediction: 9\n",
      "Cost with random weights: 13.6191427977\n",
      "Accuracy: 0.0578571428571\n"
     ]
    }
   ],
   "source": [
    "# test feed forward pass\n",
    "# create network parameters\n",
    "W,b = init_weights([784,100,10])\n",
    "# get predictions\n",
    "pred = feedprop(X_train, W, b)[0]\n",
    "print('Prediction shape:', pred.shape)\n",
    "print('First prediction:', np.argmax(pred[0]))\n",
    "print('Cost with random weights:', categorical_crossentropy(pred, y_train))\n",
    "acc = accuracy(X_train, y_train, W, b)\n",
    "print('Accuracy:', acc)"
   ]
  },
  {
   "cell_type": "markdown",
   "metadata": {},
   "source": [
    "### Backward pass"
   ]
  },
  {
   "cell_type": "code",
   "execution_count": 38,
   "metadata": {
    "collapsed": true
   },
   "outputs": [],
   "source": [
    "def backprop(x, y, W, b):\n",
    "    '''(x,y) - one learning pair\n",
    "       W - weights\n",
    "       b - biases\n",
    "    '''\n",
    "    # variables for storing gradients\n",
    "    grad_b = [np.zeros_like(b_) for b_ in b]\n",
    "    grad_W = [np.zeros_like(w) for w in W]\n",
    "    \n",
    "    # forward pass\n",
    "    # predicted value, neurons values, activations\n",
    "    y_pred, zs, acts = feedprop(x, W, b)\n",
    "    # reshape to matrix\n",
    "    if len(acts[0].shape) == 1:\n",
    "        acts[0] = np.expand_dims(acts[0], axis=1)\n",
    "    # compute error for last layer\n",
    "    e = categorical_crossentropy_derivative(y_pred, y)\n",
    "    #e = e*sigmoid_derivative(zs[-1])\n",
    "    grad_b[-1] = e\n",
    "    grad_W[-1] = np.dot(acts[-2].T, e) # we dont need last activation\n",
    "    # loop back over layers\n",
    "    n_layers = len(b)+1\n",
    "    for l in range(2, n_layers):\n",
    "        z = zs[-l]\n",
    "        # gradient for sigmoid\n",
    "        sigmoid_grad = sigmoid_derivative(z)\n",
    "        e = np.dot(e, W[-l+1].T) * sigmoid_grad\n",
    "        grad_b[-l] = e\n",
    "        grad_W[-l] = np.dot(acts[-l-1], e)\n",
    "        \n",
    "    return grad_W, grad_b"
   ]
  },
  {
   "cell_type": "markdown",
   "metadata": {},
   "source": [
    "Test backpropagation on first 10 training samples"
   ]
  },
  {
   "cell_type": "code",
   "execution_count": 849,
   "metadata": {},
   "outputs": [
    {
     "name": "stderr",
     "output_type": "stream",
     "text": [
      "D:\\Anaconda3\\lib\\site-packages\\ipykernel_launcher.py:3: RuntimeWarning: overflow encountered in exp\n",
      "  This is separate from the ipykernel package so we can avoid doing imports until\n"
     ]
    }
   ],
   "source": [
    "for x,y in zip(X_train[:10],y_train[:10]):\n",
    "    grad_W, grad_b = backprop(x, y, W, b)"
   ]
  },
  {
   "cell_type": "markdown",
   "metadata": {},
   "source": [
    "### Let's do Gradient Descent"
   ]
  },
  {
   "cell_type": "code",
   "execution_count": 868,
   "metadata": {
    "collapsed": true
   },
   "outputs": [],
   "source": [
    "def GD(X_train, y_train, W, b, epochs, learning_rate):\n",
    "    for i in range(epochs):\n",
    "        delta_W = [np.zeros_like(w) for w in W]\n",
    "        delta_b = [np.zeros_like(b_) for b_ in b]\n",
    "        \n",
    "        for x,y in zip(X_train, y_train):\n",
    "            grad_W, grad_b = backprop(x,y,W,b)\n",
    "            \n",
    "            for l in range(len(b)):\n",
    "                # compute delta\n",
    "                delta_W[l] += grad_W[l]\n",
    "                delta_b[l] += grad_b[l]\n",
    "                \n",
    "        for l in range(len(b)):\n",
    "            W[l] = W[l] - (learning_rate/len(X_train))*delta_W[l]\n",
    "            b[l] = b[l] - (learning_rate/len(X_train))*delta_b[l]\n",
    "                \n",
    "        # metric\n",
    "        #print([w.shape for w in W])\n",
    "        #print([b_.shape for b_ in b])\n",
    "        \n",
    "        train_acc = accuracy(X_train, y_train, W, b)\n",
    "        print('Epoch {} Accuracy: {}'.format(i, train_acc))\n",
    "    \n",
    "    return W,b"
   ]
  },
  {
   "cell_type": "markdown",
   "metadata": {},
   "source": [
    "### Construct neural network (init weights)"
   ]
  },
  {
   "cell_type": "code",
   "execution_count": 884,
   "metadata": {
    "collapsed": true
   },
   "outputs": [],
   "source": [
    "W,b = init_weights([X_train.shape[1],30,N_CLASSES])"
   ]
  },
  {
   "cell_type": "markdown",
   "metadata": {},
   "source": [
    "### Do 50 epochs of gradient descent"
   ]
  },
  {
   "cell_type": "code",
   "execution_count": 885,
   "metadata": {},
   "outputs": [
    {
     "name": "stderr",
     "output_type": "stream",
     "text": [
      "D:\\Anaconda3\\lib\\site-packages\\ipykernel_launcher.py:3: RuntimeWarning: overflow encountered in exp\n",
      "  This is separate from the ipykernel package so we can avoid doing imports until\n"
     ]
    },
    {
     "name": "stdout",
     "output_type": "stream",
     "text": [
      "Epoch 0 Accuracy: 0.08542857142857142\n",
      "Epoch 1 Accuracy: 0.1345952380952381\n",
      "Epoch 2 Accuracy: 0.21723809523809523\n",
      "Epoch 3 Accuracy: 0.29678571428571426\n",
      "Epoch 4 Accuracy: 0.35604761904761906\n",
      "Epoch 5 Accuracy: 0.3887857142857143\n",
      "Epoch 6 Accuracy: 0.4180238095238095\n",
      "Epoch 7 Accuracy: 0.4504761904761905\n",
      "Epoch 8 Accuracy: 0.4855238095238095\n",
      "Epoch 9 Accuracy: 0.5050714285714286\n",
      "Epoch 10 Accuracy: 0.5241666666666667\n",
      "Epoch 11 Accuracy: 0.5490952380952381\n",
      "Epoch 12 Accuracy: 0.5598095238095238\n",
      "Epoch 13 Accuracy: 0.5618571428571428\n",
      "Epoch 14 Accuracy: 0.5806428571428571\n",
      "Epoch 15 Accuracy: 0.5988809523809524\n",
      "Epoch 16 Accuracy: 0.6019761904761904\n",
      "Epoch 17 Accuracy: 0.6240238095238095\n",
      "Epoch 18 Accuracy: 0.6312619047619048\n",
      "Epoch 19 Accuracy: 0.6386190476190476\n",
      "Epoch 20 Accuracy: 0.6586904761904762\n",
      "Epoch 21 Accuracy: 0.661047619047619\n",
      "Epoch 22 Accuracy: 0.6806666666666666\n",
      "Epoch 23 Accuracy: 0.6765238095238095\n",
      "Epoch 24 Accuracy: 0.6913333333333334\n",
      "Epoch 25 Accuracy: 0.6931904761904762\n",
      "Epoch 26 Accuracy: 0.7070952380952381\n",
      "Epoch 27 Accuracy: 0.7081428571428572\n",
      "Epoch 28 Accuracy: 0.7218095238095238\n",
      "Epoch 29 Accuracy: 0.7269761904761904\n",
      "Epoch 30 Accuracy: 0.7265238095238096\n",
      "Epoch 31 Accuracy: 0.7338809523809524\n",
      "Epoch 32 Accuracy: 0.7413333333333333\n",
      "Epoch 33 Accuracy: 0.746\n",
      "Epoch 34 Accuracy: 0.7458333333333333\n",
      "Epoch 35 Accuracy: 0.7523333333333333\n",
      "Epoch 36 Accuracy: 0.7579285714285714\n",
      "Epoch 37 Accuracy: 0.7605\n",
      "Epoch 38 Accuracy: 0.7654047619047619\n",
      "Epoch 39 Accuracy: 0.769\n",
      "Epoch 40 Accuracy: 0.7711666666666667\n",
      "Epoch 41 Accuracy: 0.7781904761904762\n",
      "Epoch 42 Accuracy: 0.7748571428571429\n",
      "Epoch 43 Accuracy: 0.7819047619047619\n",
      "Epoch 44 Accuracy: 0.7799047619047619\n",
      "Epoch 45 Accuracy: 0.7883571428571429\n",
      "Epoch 46 Accuracy: 0.7858333333333334\n",
      "Epoch 47 Accuracy: 0.7859047619047619\n",
      "Epoch 48 Accuracy: 0.7869761904761905\n",
      "Epoch 49 Accuracy: 0.7888095238095238\n"
     ]
    }
   ],
   "source": [
    "W,b = GD(X_train, y_train, W, b, 50, 0.8)"
   ]
  }
 ],
 "metadata": {
  "kernelspec": {
   "display_name": "Python 3",
   "language": "python",
   "name": "python3"
  },
  "language_info": {
   "codemirror_mode": {
    "name": "ipython",
    "version": 3
   },
   "file_extension": ".py",
   "mimetype": "text/x-python",
   "name": "python",
   "nbconvert_exporter": "python",
   "pygments_lexer": "ipython3",
   "version": "3.5.3"
  }
 },
 "nbformat": 4,
 "nbformat_minor": 2
}
